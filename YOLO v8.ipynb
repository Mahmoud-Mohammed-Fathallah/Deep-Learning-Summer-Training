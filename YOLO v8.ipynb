{
  "nbformat": 4,
  "nbformat_minor": 0,
  "metadata": {
    "colab": {
      "provenance": [],
      "gpuType": "T4"
    },
    "kernelspec": {
      "name": "python3",
      "display_name": "Python 3"
    },
    "language_info": {
      "name": "python"
    },
    "accelerator": "GPU"
  },
  "cells": [
    {
      "cell_type": "markdown",
      "source": [
        "# Connect to drive and unzip data set"
      ],
      "metadata": {
        "id": "uhjJz_lCZjp2"
      }
    },
    {
      "cell_type": "code",
      "source": [
        "!ls"
      ],
      "metadata": {
        "id": "HRd0wmG9ju--",
        "outputId": "4e2e49e9-00c7-43be-8909-ac6583b9e300",
        "colab": {
          "base_uri": "https://localhost:8080/"
        }
      },
      "execution_count": null,
      "outputs": [
        {
          "output_type": "stream",
          "name": "stdout",
          "text": [
            "sample_data\n"
          ]
        }
      ]
    },
    {
      "cell_type": "code",
      "source": [
        "from google.colab import drive\n",
        "drive.mount('/content/drive')"
      ],
      "metadata": {
        "id": "8gbkMsTVSzmc",
        "colab": {
          "base_uri": "https://localhost:8080/"
        },
        "outputId": "3b3966af-9545-4d44-ae0d-17b781951d63"
      },
      "execution_count": null,
      "outputs": [
        {
          "output_type": "stream",
          "name": "stdout",
          "text": [
            "Mounted at /content/drive\n"
          ]
        }
      ]
    },
    {
      "cell_type": "code",
      "source": [
        "from zipfile import ZipFile"
      ],
      "metadata": {
        "id": "x3MSIGO1Y2Za"
      },
      "execution_count": null,
      "outputs": []
    },
    {
      "cell_type": "code",
      "source": [
        "with ZipFile('/content/drive/MyDrive/data.zip', 'r') as zip:\n",
        "    zip.extractall()"
      ],
      "metadata": {
        "id": "S9ZwgpB5UPsf"
      },
      "execution_count": null,
      "outputs": []
    },
    {
      "cell_type": "code",
      "source": [
        "import os\n",
        "import pandas as pd\n",
        "import numpy as np\n",
        "from sklearn.model_selection import train_test_split\n",
        "from PIL import Image, ImageDraw\n",
        "import copy"
      ],
      "metadata": {
        "id": "5a43Og1DABNj"
      },
      "execution_count": null,
      "outputs": []
    },
    {
      "cell_type": "code",
      "execution_count": null,
      "metadata": {
        "execution": {
          "iopub.execute_input": "2023-08-14T08:25:50.768827Z",
          "iopub.status.busy": "2023-08-14T08:25:50.768318Z",
          "iopub.status.idle": "2023-08-14T08:26:00.683492Z",
          "shell.execute_reply": "2023-08-14T08:26:00.682029Z"
        },
        "papermill": {
          "duration": 9.927933,
          "end_time": "2023-08-14T08:26:00.688293",
          "exception": false,
          "start_time": "2023-08-14T08:25:50.760360",
          "status": "completed"
        },
        "tags": [],
        "id": "138b30e8",
        "colab": {
          "base_uri": "https://localhost:8080/"
        },
        "outputId": "414c9398-4132-49f5-c4e8-73b3e91013d9"
      },
      "outputs": [
        {
          "output_type": "stream",
          "name": "stdout",
          "text": [
            "8218\n",
            "8218\n"
          ]
        }
      ],
      "source": [
        "import glob\n",
        "img_dir_name = '/content/train/images/'\n",
        "list_of_files = sorted( filter( os.path.isfile,glob.glob(img_dir_name + '*') ) )\n",
        "Classes=[]\n",
        "images_data_paths = []\n",
        "for file_path in list_of_files:\n",
        "    if os.path.splitext((file_path.split('/'))[4])[0] == 'train':\n",
        "        continue\n",
        "    images_data_paths.append(file_path)\n",
        "\n",
        "\n",
        "label_dir_name = '/content/train/labels/'\n",
        "list_of_files = sorted( filter( os.path.isfile,glob.glob(label_dir_name + '*') ) )\n",
        "\n",
        "labels_data_paths = []\n",
        "for file_path in list_of_files:\n",
        "    if os.path.splitext((file_path.split('/'))[4])[0] == 'classes':\n",
        "        file = open(file_path, 'r')\n",
        "        # Read the contents of the file\n",
        "        Classes=(file.read().split(\"\\n\"))\n",
        "        continue\n",
        "    labels_data_paths.append(file_path)\n",
        "print(len(labels_data_paths))\n",
        "print(len(images_data_paths))"
      ]
    },
    {
      "cell_type": "code",
      "source": [
        "train_images_paths,test_images_paths,train_label_paths,test_label_paths=train_test_split(images_data_paths, labels_data_paths, test_size=0.2, random_state=42)"
      ],
      "metadata": {
        "id": "CCKMl1XhbMd_"
      },
      "execution_count": null,
      "outputs": []
    },
    {
      "cell_type": "code",
      "source": [
        "!cd content\n",
        "!mkdir Train\n",
        "!mkdir Val\n",
        "!ls\n",
        "%cd Train\n",
        "print(\"in train\")\n",
        "!ls\n",
        "!mkdir images\n",
        "!mkdir labels\n",
        "!ls\n",
        "%cd ..\n",
        "%cd Val\n",
        "print(\"in val\")\n",
        "!mkdir images\n",
        "!mkdir labels\n",
        "!ls\n",
        "%cd .."
      ],
      "metadata": {
        "colab": {
          "base_uri": "https://localhost:8080/"
        },
        "id": "vDXKBAUXd9f9",
        "outputId": "0596173d-0153-4e47-fef1-659bcc4f9192"
      },
      "execution_count": null,
      "outputs": [
        {
          "output_type": "stream",
          "name": "stdout",
          "text": [
            "/bin/bash: line 1: cd: content: No such file or directory\n",
            "drive  sample_data  train  Train  Val\n",
            "/content/Train\n",
            "in train\n",
            "images\tlabels\n",
            "/content\n",
            "/content/Val\n",
            "in val\n",
            "images\tlabels\n",
            "/content\n"
          ]
        }
      ]
    },
    {
      "cell_type": "code",
      "source": [
        "%cd .."
      ],
      "metadata": {
        "colab": {
          "base_uri": "https://localhost:8080/"
        },
        "id": "0LGfeifCKGYa",
        "outputId": "a962be4c-6ede-4d5b-db61-0b5e5c32886d"
      },
      "execution_count": null,
      "outputs": [
        {
          "output_type": "stream",
          "name": "stdout",
          "text": [
            "/\n"
          ]
        }
      ]
    },
    {
      "cell_type": "code",
      "source": [
        "# os.makedirs('/content/Train/labels/')\n",
        "os.path.isdir('/content/Val/labels')"
      ],
      "metadata": {
        "id": "AXIWvC75LUhH",
        "colab": {
          "base_uri": "https://localhost:8080/"
        },
        "outputId": "77ee76b2-652c-4b93-e540-d2b8e339fa24"
      },
      "execution_count": null,
      "outputs": [
        {
          "output_type": "execute_result",
          "data": {
            "text/plain": [
              "True"
            ]
          },
          "metadata": {},
          "execution_count": 10
        }
      ]
    },
    {
      "cell_type": "code",
      "source": [
        "from pathlib import Path\n",
        "import shutil\n",
        "# Load the image\n",
        "\n",
        "for image_path in train_images_paths:\n",
        "    image = Image.open(image_path)\n",
        "    new_size = (448, 448)  # Specify the desired shape\n",
        "    resized_imag = image.resize(new_size)\n",
        "    resized_imag.save(os.path.join('/content/Train/images',Path(image_path).stem+'.jpg'))\n",
        "\n",
        "for image_path in test_images_paths:\n",
        "    image = Image.open(image_path)\n",
        "    new_size = (448, 448)  # Specify the desired shape\n",
        "    resized_imag = image.resize(new_size)\n",
        "    resized_imag.save(os.path.join('/content/Val/images',Path(image_path).stem+'.jpg'))\n",
        "\n",
        "for label_path in train_label_paths:\n",
        "    shutil.move(label_path, os.path.join('/content/Train/labels',Path(label_path).stem+'.txt'))\n",
        "\n",
        "for label_path in test_label_paths:\n",
        "    shutil.move(label_path, os.path.join('/content/Val/labels',Path(label_path).stem+'.txt'))\n"
      ],
      "metadata": {
        "id": "mO7-obxCTy0c"
      },
      "execution_count": null,
      "outputs": []
    },
    {
      "cell_type": "code",
      "source": [
        "print(Classes)"
      ],
      "metadata": {
        "colab": {
          "base_uri": "https://localhost:8080/"
        },
        "id": "l3dfXVHbWjkr",
        "outputId": "f1cd6968-5864-47b7-c4b1-808119e3c199"
      },
      "execution_count": null,
      "outputs": [
        {
          "output_type": "stream",
          "name": "stdout",
          "text": [
            "['auto', 'bus', 'car', 'lcv', 'motorcycle', 'multiaxle', 'tractor', 'truck']\n"
          ]
        }
      ]
    },
    {
      "cell_type": "code",
      "source": [
        "ROOT_DIR = '/content/drive/MyDrive'\n",
        "\n",
        "!pip install ultralytics"
      ],
      "metadata": {
        "colab": {
          "base_uri": "https://localhost:8080/"
        },
        "id": "j9XRnXObXWJS",
        "outputId": "78956e67-ccdb-4a6e-c72d-9ce99392880e"
      },
      "execution_count": null,
      "outputs": [
        {
          "output_type": "stream",
          "name": "stdout",
          "text": [
            "Collecting ultralytics\n",
            "  Downloading ultralytics-8.0.173-py3-none-any.whl (614 kB)\n",
            "\u001b[2K     \u001b[90m━━━━━━━━━━━━━━━━━━━━━━━━━━━━━━━━━━━━━━━\u001b[0m \u001b[32m614.2/614.2 kB\u001b[0m \u001b[31m8.9 MB/s\u001b[0m eta \u001b[36m0:00:00\u001b[0m\n",
            "\u001b[?25hRequirement already satisfied: matplotlib>=3.2.2 in /usr/local/lib/python3.10/dist-packages (from ultralytics) (3.7.1)\n",
            "Requirement already satisfied: numpy>=1.22.2 in /usr/local/lib/python3.10/dist-packages (from ultralytics) (1.23.5)\n",
            "Requirement already satisfied: opencv-python>=4.6.0 in /usr/local/lib/python3.10/dist-packages (from ultralytics) (4.8.0.76)\n",
            "Requirement already satisfied: pillow>=7.1.2 in /usr/local/lib/python3.10/dist-packages (from ultralytics) (9.4.0)\n",
            "Requirement already satisfied: pyyaml>=5.3.1 in /usr/local/lib/python3.10/dist-packages (from ultralytics) (6.0.1)\n",
            "Requirement already satisfied: requests>=2.23.0 in /usr/local/lib/python3.10/dist-packages (from ultralytics) (2.31.0)\n",
            "Requirement already satisfied: scipy>=1.4.1 in /usr/local/lib/python3.10/dist-packages (from ultralytics) (1.10.1)\n",
            "Requirement already satisfied: torch>=1.8.0 in /usr/local/lib/python3.10/dist-packages (from ultralytics) (2.0.1+cu118)\n",
            "Requirement already satisfied: torchvision>=0.9.0 in /usr/local/lib/python3.10/dist-packages (from ultralytics) (0.15.2+cu118)\n",
            "Requirement already satisfied: tqdm>=4.64.0 in /usr/local/lib/python3.10/dist-packages (from ultralytics) (4.66.1)\n",
            "Requirement already satisfied: pandas>=1.1.4 in /usr/local/lib/python3.10/dist-packages (from ultralytics) (1.5.3)\n",
            "Requirement already satisfied: seaborn>=0.11.0 in /usr/local/lib/python3.10/dist-packages (from ultralytics) (0.12.2)\n",
            "Requirement already satisfied: psutil in /usr/local/lib/python3.10/dist-packages (from ultralytics) (5.9.5)\n",
            "Requirement already satisfied: py-cpuinfo in /usr/local/lib/python3.10/dist-packages (from ultralytics) (9.0.0)\n",
            "Requirement already satisfied: contourpy>=1.0.1 in /usr/local/lib/python3.10/dist-packages (from matplotlib>=3.2.2->ultralytics) (1.1.0)\n",
            "Requirement already satisfied: cycler>=0.10 in /usr/local/lib/python3.10/dist-packages (from matplotlib>=3.2.2->ultralytics) (0.11.0)\n",
            "Requirement already satisfied: fonttools>=4.22.0 in /usr/local/lib/python3.10/dist-packages (from matplotlib>=3.2.2->ultralytics) (4.42.1)\n",
            "Requirement already satisfied: kiwisolver>=1.0.1 in /usr/local/lib/python3.10/dist-packages (from matplotlib>=3.2.2->ultralytics) (1.4.5)\n",
            "Requirement already satisfied: packaging>=20.0 in /usr/local/lib/python3.10/dist-packages (from matplotlib>=3.2.2->ultralytics) (23.1)\n",
            "Requirement already satisfied: pyparsing>=2.3.1 in /usr/local/lib/python3.10/dist-packages (from matplotlib>=3.2.2->ultralytics) (3.1.1)\n",
            "Requirement already satisfied: python-dateutil>=2.7 in /usr/local/lib/python3.10/dist-packages (from matplotlib>=3.2.2->ultralytics) (2.8.2)\n",
            "Requirement already satisfied: pytz>=2020.1 in /usr/local/lib/python3.10/dist-packages (from pandas>=1.1.4->ultralytics) (2023.3.post1)\n",
            "Requirement already satisfied: charset-normalizer<4,>=2 in /usr/local/lib/python3.10/dist-packages (from requests>=2.23.0->ultralytics) (3.2.0)\n",
            "Requirement already satisfied: idna<4,>=2.5 in /usr/local/lib/python3.10/dist-packages (from requests>=2.23.0->ultralytics) (3.4)\n",
            "Requirement already satisfied: urllib3<3,>=1.21.1 in /usr/local/lib/python3.10/dist-packages (from requests>=2.23.0->ultralytics) (2.0.4)\n",
            "Requirement already satisfied: certifi>=2017.4.17 in /usr/local/lib/python3.10/dist-packages (from requests>=2.23.0->ultralytics) (2023.7.22)\n",
            "Requirement already satisfied: filelock in /usr/local/lib/python3.10/dist-packages (from torch>=1.8.0->ultralytics) (3.12.2)\n",
            "Requirement already satisfied: typing-extensions in /usr/local/lib/python3.10/dist-packages (from torch>=1.8.0->ultralytics) (4.5.0)\n",
            "Requirement already satisfied: sympy in /usr/local/lib/python3.10/dist-packages (from torch>=1.8.0->ultralytics) (1.12)\n",
            "Requirement already satisfied: networkx in /usr/local/lib/python3.10/dist-packages (from torch>=1.8.0->ultralytics) (3.1)\n",
            "Requirement already satisfied: jinja2 in /usr/local/lib/python3.10/dist-packages (from torch>=1.8.0->ultralytics) (3.1.2)\n",
            "Requirement already satisfied: triton==2.0.0 in /usr/local/lib/python3.10/dist-packages (from torch>=1.8.0->ultralytics) (2.0.0)\n",
            "Requirement already satisfied: cmake in /usr/local/lib/python3.10/dist-packages (from triton==2.0.0->torch>=1.8.0->ultralytics) (3.27.4.1)\n",
            "Requirement already satisfied: lit in /usr/local/lib/python3.10/dist-packages (from triton==2.0.0->torch>=1.8.0->ultralytics) (16.0.6)\n",
            "Requirement already satisfied: six>=1.5 in /usr/local/lib/python3.10/dist-packages (from python-dateutil>=2.7->matplotlib>=3.2.2->ultralytics) (1.16.0)\n",
            "Requirement already satisfied: MarkupSafe>=2.0 in /usr/local/lib/python3.10/dist-packages (from jinja2->torch>=1.8.0->ultralytics) (2.1.3)\n",
            "Requirement already satisfied: mpmath>=0.19 in /usr/local/lib/python3.10/dist-packages (from sympy->torch>=1.8.0->ultralytics) (1.3.0)\n",
            "Installing collected packages: ultralytics\n",
            "Successfully installed ultralytics-8.0.173\n"
          ]
        }
      ]
    },
    {
      "cell_type": "markdown",
      "source": [
        "## Try"
      ],
      "metadata": {
        "id": "ENgSBZpQTRRr"
      }
    },
    {
      "cell_type": "code",
      "source": [
        "import os\n",
        "from ultralytics import YOLO\n",
        "\n",
        "# Load a model\n",
        "# model = YOLO(\"yolov8n.yaml\")  # build a new model from scratch\n",
        "model = YOLO(\"yolov8n.pt\")  # load a pretrained model (recommended for training)\n",
        "# Use the model\n",
        "results = model.train(data=os.path.join(ROOT_DIR, \"google_colab_config.yaml\"), epochs=85)  # train the model\n",
        "print(results)\n",
        "\n",
        "# Use the modellllllllllllllllllllllllllllllllllllllllllllllllllllllllllllllllllllllllllllllllllllllllllllllllllllllllllllllllllllllllllllllllllllllllllllllllllllllllllllllllllllllllllllllllllllllllllllllllllllllllllllllllllllllllllllllllllllllllllllllllllllllllllllllllllllllllllllllllllllllllllllllllllllllllllllllllllllllllllllllllllllllllllllllllllllllllllllllllllllllllllllllllllllllllllllllllllllllllllllllllllllllllllllllllllllllllllllllllllllllllllllllllllllllllllllllllllllllllllllllllllllllllllllllllllllllllllllllllllllllllllllllllllllllllllllllllllllllllllllllllllllllllllllllllllllllllllllllllllllllllllllllllllllllllllllllllllllllllllllllllllllllllllllllllllllllllllllllllllllllllllllllllllllllllllllllllllllllllllllllllllllllllllllllllllllllllllllllllllllllllllllllllllllllllllllllllllllllllllllllllllllllllllllllllllllllllllllllllllllllllllllllllllllllllllllllllllllllllllllllllllllllllllllllllllllllllllllllllllllllllllllllllllllllllllllllllllllllllllllllllllllllllllllllllllllllllllllllllllllllllllllllllllllllllllllllllllllllllllllllllllllllllllllllllllllllllllllllllllllllllllllllllllllllllllllllllllllllllllllllllllllllllllllllllllllllllllllllllllllllllllllllllllllllllllllllllllllllllllllllllllllllllllllllllllllllllllllllllllllllllllllllllllllllllllllllllllllllllllllllllllllllllllllllllllllllllllllllllllllllllllllllllllllllllllllllllllllllllllllllllllllllllllllllllllllllllllllllllllllllllllllllllllllllllllllllllllllllllllllllllllllllllllllllllllllllllllllllllllllllllllllllllllllllllllllllllllllllllllllllllllllllllllllllllllllllllllllllllllllllllllllllllllllllllllllllllllllllllllllllllllllllllllllllllllllllllllllllllllllllllllllllllllllllllllllllllllllllllllllllllllllllllllllllllllllllllllllllllllllllllllllllllllllllllllllllllllllllllllllllllllllllllllllllllllllllllllllllllllllllllllllllllllllllllllllllllllllllllllllllllllllllllllllllllllllllllllllllllllllllllllllllllllllllllllllllllllllllllllllllllllllllllllllllllllllllllllllllllllllllllllllllllllllllllllllllllllllllllllllllllllllllllllllllllllllllllllllllllllllllllllllllllllllllllllllllllllllllllllllllllllllllllllllllllllllllllllllllllllllllllllllllllllllllllllllllllllllllllllllllllllllllllllllllllllllllllllllllllllllllllllllllllllllllllllllllllllllllllllllllllllllllllllllllllllllllllllllllllllllllllllllllllllllllllllllllllllllllllllllllllllllllllllllllllllllllllllllllllllllllllllllllllllllllllllllllllllllllllllllllllllllllllllllllllllllllllllllllllllllllllllllllllllllllllllllllllllllllllllllllllllllllllllllllllllllllllllllllllllllllllllllllllllllllllllllllllllllllllllllllllllllllllllllllllllllllllllllllllllllllllllllllllllllllllllllllllllllllllllllllllllllllllllllllllllllllllllllllllllllllllllllllllllllllllllllllllllllllllllllllllllllllllllllllllllllllllllllllllllllllllllllllllllllllllllllllllllllllllllllllllllllllllllllllllllllllllllllllllllllllllllllllllllllllllllllllllllllllllllllllllllllllllllllllllllllllllllllllllllllllllllllllllllllllllllllllllllllllllllllllllllllllllllllllllllllllllllllllllllllllllllllllllllllllllllllllllllllllllllllllllllllllllllllllllllllllllllllllllllllllllllllllllllllllllllllllllllllllllllllllllllllllllllllllllllllllllllllllllllllllllllllllllllllllllllllllllllllllllllllllllllllllllllllllllllllllllllllllllllllllllllllllllllllllllllllllllllllllllllllllllllllllllllllllllllllllllllllllllllllllllllllllllllllllllllllllllllllllllllllllllllllllllllllllllllllllllllllllllllllllllllllllllllllllllllllllllllllllllllllllllllllllllllllllllllllllllllllllllllllllllllllllllllllllllllllllllllllllllllllllllllllllllllllllllllllllllllllllllllllllllllllllllllllllllllllllllllllllllllllllllllllllllllllllllllllllllllllllllllllllllllllllllllllllllllllllllllllllllllllllllllllllllllllllllllllllllllllllllllllllllllllllllllllllllllllllllllllllllllllllllllllllllllllllllllllllllllllllllllllllllllllllllllllllllllllllllllllllllllllllllllllllllllllllllllllllllllllllllllllllllllllllllllllllllllllllllllllllllllllllllllllllllllllllllllllllllllllllllllllllllllllllllllllllllllllllllllllllllllllllllllllllllllllll\n",
        "# model.train(data=\"coco128.yaml\", epochs=3)  # train the model\n",
        "# metrics = model.val()  # evaluate model performance on the validation set\n",
        "# results = model(\"https://ultralytics.com/images/bus.jpg\")  # predict on an image\n",
        "# path = model.export(format=\"onnx\")  # export the model to ONNX format"
      ],
      "metadata": {
        "colab": {
          "base_uri": "https://localhost:8080/"
        },
        "id": "RvqqaoP1vfls",
        "outputId": "f9c5f552-2ece-4bbc-de79-af70765c9e04"
      },
      "execution_count": null,
      "outputs": [
        {
          "output_type": "stream",
          "name": "stderr",
          "text": [
            "Downloading https://github.com/ultralytics/assets/releases/download/v0.0.0/yolov8n.pt to 'yolov8n.pt'...\n",
            "100%|██████████| 6.23M/6.23M [00:00<00:00, 47.0MB/s]\n",
            "Ultralytics YOLOv8.0.173 🚀 Python-3.10.12 torch-2.0.1+cu118 CUDA:0 (Tesla T4, 15102MiB)\n",
            "\u001b[34m\u001b[1mengine/trainer: \u001b[0mtask=detect, mode=train, model=yolov8n.pt, data=/content/drive/MyDrive/google_colab_config.yaml, epochs=85, patience=50, batch=16, imgsz=640, save=True, save_period=-1, cache=False, device=None, workers=8, project=None, name=None, exist_ok=False, pretrained=True, optimizer=auto, verbose=True, seed=0, deterministic=True, single_cls=False, rect=False, cos_lr=False, close_mosaic=10, resume=False, amp=True, fraction=1.0, profile=False, freeze=None, overlap_mask=True, mask_ratio=4, dropout=0.0, val=True, split=val, save_json=False, save_hybrid=False, conf=None, iou=0.7, max_det=300, half=False, dnn=False, plots=True, source=None, show=False, save_txt=False, save_conf=False, save_crop=False, show_labels=True, show_conf=True, vid_stride=1, stream_buffer=False, line_width=None, visualize=False, augment=False, agnostic_nms=False, classes=None, retina_masks=False, boxes=True, format=torchscript, keras=False, optimize=False, int8=False, dynamic=False, simplify=False, opset=None, workspace=4, nms=False, lr0=0.01, lrf=0.01, momentum=0.937, weight_decay=0.0005, warmup_epochs=3.0, warmup_momentum=0.8, warmup_bias_lr=0.1, box=7.5, cls=0.5, dfl=1.5, pose=12.0, kobj=1.0, label_smoothing=0.0, nbs=64, hsv_h=0.015, hsv_s=0.7, hsv_v=0.4, degrees=0.0, translate=0.1, scale=0.5, shear=0.0, perspective=0.0, flipud=0.0, fliplr=0.5, mosaic=1.0, mixup=0.0, copy_paste=0.0, cfg=None, tracker=botsort.yaml, save_dir=runs/detect/train\n",
            "Downloading https://ultralytics.com/assets/Arial.ttf to '/root/.config/Ultralytics/Arial.ttf'...\n",
            "100%|██████████| 755k/755k [00:00<00:00, 14.2MB/s]\n",
            "Overriding model.yaml nc=80 with nc=8\n",
            "\n",
            "                   from  n    params  module                                       arguments                     \n",
            "  0                  -1  1       464  ultralytics.nn.modules.conv.Conv             [3, 16, 3, 2]                 \n",
            "  1                  -1  1      4672  ultralytics.nn.modules.conv.Conv             [16, 32, 3, 2]                \n",
            "  2                  -1  1      7360  ultralytics.nn.modules.block.C2f             [32, 32, 1, True]             \n",
            "  3                  -1  1     18560  ultralytics.nn.modules.conv.Conv             [32, 64, 3, 2]                \n",
            "  4                  -1  2     49664  ultralytics.nn.modules.block.C2f             [64, 64, 2, True]             \n",
            "  5                  -1  1     73984  ultralytics.nn.modules.conv.Conv             [64, 128, 3, 2]               \n",
            "  6                  -1  2    197632  ultralytics.nn.modules.block.C2f             [128, 128, 2, True]           \n",
            "  7                  -1  1    295424  ultralytics.nn.modules.conv.Conv             [128, 256, 3, 2]              \n",
            "  8                  -1  1    460288  ultralytics.nn.modules.block.C2f             [256, 256, 1, True]           \n",
            "  9                  -1  1    164608  ultralytics.nn.modules.block.SPPF            [256, 256, 5]                 \n",
            " 10                  -1  1         0  torch.nn.modules.upsampling.Upsample         [None, 2, 'nearest']          \n",
            " 11             [-1, 6]  1         0  ultralytics.nn.modules.conv.Concat           [1]                           \n",
            " 12                  -1  1    148224  ultralytics.nn.modules.block.C2f             [384, 128, 1]                 \n",
            " 13                  -1  1         0  torch.nn.modules.upsampling.Upsample         [None, 2, 'nearest']          \n",
            " 14             [-1, 4]  1         0  ultralytics.nn.modules.conv.Concat           [1]                           \n",
            " 15                  -1  1     37248  ultralytics.nn.modules.block.C2f             [192, 64, 1]                  \n",
            " 16                  -1  1     36992  ultralytics.nn.modules.conv.Conv             [64, 64, 3, 2]                \n",
            " 17            [-1, 12]  1         0  ultralytics.nn.modules.conv.Concat           [1]                           \n",
            " 18                  -1  1    123648  ultralytics.nn.modules.block.C2f             [192, 128, 1]                 \n",
            " 19                  -1  1    147712  ultralytics.nn.modules.conv.Conv             [128, 128, 3, 2]              \n",
            " 20             [-1, 9]  1         0  ultralytics.nn.modules.conv.Concat           [1]                           \n",
            " 21                  -1  1    493056  ultralytics.nn.modules.block.C2f             [384, 256, 1]                 \n",
            " 22        [15, 18, 21]  1    752872  ultralytics.nn.modules.head.Detect           [8, [64, 128, 256]]           \n",
            "Model summary: 225 layers, 3012408 parameters, 3012392 gradients\n",
            "\n",
            "Transferred 319/355 items from pretrained weights\n",
            "\u001b[34m\u001b[1mTensorBoard: \u001b[0mStart with 'tensorboard --logdir runs/detect/train', view at http://localhost:6006/\n",
            "Freezing layer 'model.22.dfl.conv.weight'\n",
            "\u001b[34m\u001b[1mAMP: \u001b[0mrunning Automatic Mixed Precision (AMP) checks with YOLOv8n...\n",
            "\u001b[34m\u001b[1mAMP: \u001b[0mchecks passed ✅\n",
            "\u001b[34m\u001b[1mtrain: \u001b[0mScanning /content/Train/labels... 6574 images, 14 backgrounds, 0 corrupt: 100%|██████████| 6574/6574 [00:03<00:00, 2112.16it/s]\n",
            "\u001b[34m\u001b[1mtrain: \u001b[0mWARNING ⚠️ /content/Train/images/highway_2784_2020-08-26.jpg: 1 duplicate labels removed\n",
            "\u001b[34m\u001b[1mtrain: \u001b[0mWARNING ⚠️ /content/Train/images/highway_3297_2020-08-26.jpg: 1 duplicate labels removed\n",
            "\u001b[34m\u001b[1mtrain: \u001b[0mNew cache created: /content/Train/labels.cache\n",
            "\u001b[34m\u001b[1malbumentations: \u001b[0mBlur(p=0.01, blur_limit=(3, 7)), MedianBlur(p=0.01, blur_limit=(3, 7)), ToGray(p=0.01), CLAHE(p=0.01, clip_limit=(1, 4.0), tile_grid_size=(8, 8))\n",
            "\u001b[34m\u001b[1mval: \u001b[0mScanning /content/Val/labels... 1644 images, 4 backgrounds, 0 corrupt: 100%|██████████| 1644/1644 [00:02<00:00, 698.19it/s]\n",
            "\u001b[34m\u001b[1mval: \u001b[0mNew cache created: /content/Val/labels.cache\n",
            "Plotting labels to runs/detect/train/labels.jpg... \n",
            "\u001b[34m\u001b[1moptimizer:\u001b[0m AdamW(lr=0.000833, momentum=0.9) with parameter groups 57 weight(decay=0.0), 64 weight(decay=0.0005), 63 bias(decay=0.0)\n",
            "Image sizes 640 train, 640 val\n",
            "Using 2 dataloader workers\n",
            "Logging results to \u001b[1mruns/detect/train\u001b[0m\n",
            "Starting training for 85 epochs...\n",
            "\n",
            "      Epoch    GPU_mem   box_loss   cls_loss   dfl_loss  Instances       Size\n",
            "       1/85      2.71G      1.514      2.186      1.146         67        640: 100%|██████████| 411/411 [02:31<00:00,  2.72it/s]\n",
            "                 Class     Images  Instances      Box(P          R      mAP50  mAP50-95): 100%|██████████| 52/52 [00:17<00:00,  2.94it/s]\n",
            "                   all       1644       5298        0.4      0.565      0.445      0.268\n",
            "\n",
            "      Epoch    GPU_mem   box_loss   cls_loss   dfl_loss  Instances       Size\n",
            "       2/85      2.61G      1.424      1.469      1.109         39        640: 100%|██████████| 411/411 [02:24<00:00,  2.84it/s]\n",
            "                 Class     Images  Instances      Box(P          R      mAP50  mAP50-95): 100%|██████████| 52/52 [00:16<00:00,  3.24it/s]\n",
            "                   all       1644       5298      0.532      0.638      0.547      0.327\n",
            "\n",
            "      Epoch    GPU_mem   box_loss   cls_loss   dfl_loss  Instances       Size\n",
            "       3/85       2.6G      1.417        1.3      1.118         69        640: 100%|██████████| 411/411 [02:21<00:00,  2.91it/s]\n",
            "                 Class     Images  Instances      Box(P          R      mAP50  mAP50-95): 100%|██████████| 52/52 [00:16<00:00,  3.15it/s]\n",
            "                   all       1644       5298      0.508      0.666       0.59      0.373\n",
            "\n",
            "      Epoch    GPU_mem   box_loss   cls_loss   dfl_loss  Instances       Size\n",
            "       4/85      2.61G      1.384      1.197       1.11         44        640: 100%|██████████| 411/411 [02:22<00:00,  2.89it/s]\n",
            "                 Class     Images  Instances      Box(P          R      mAP50  mAP50-95): 100%|██████████| 52/52 [00:15<00:00,  3.28it/s]\n",
            "                   all       1644       5298      0.579      0.674       0.63      0.391\n",
            "\n",
            "      Epoch    GPU_mem   box_loss   cls_loss   dfl_loss  Instances       Size\n",
            "       5/85      2.61G      1.369      1.133      1.108         56        640: 100%|██████████| 411/411 [02:21<00:00,  2.91it/s]\n",
            "                 Class     Images  Instances      Box(P          R      mAP50  mAP50-95): 100%|██████████| 52/52 [00:15<00:00,  3.29it/s]\n",
            "                   all       1644       5298      0.611      0.675      0.645      0.414\n",
            "\n",
            "      Epoch    GPU_mem   box_loss   cls_loss   dfl_loss  Instances       Size\n",
            "       6/85       2.6G      1.337      1.091      1.095         88        640: 100%|██████████| 411/411 [02:18<00:00,  2.97it/s]\n",
            "                 Class     Images  Instances      Box(P          R      mAP50  mAP50-95): 100%|██████████| 52/52 [00:16<00:00,  3.13it/s]\n",
            "                   all       1644       5298      0.591      0.711      0.645      0.403\n",
            "\n",
            "      Epoch    GPU_mem   box_loss   cls_loss   dfl_loss  Instances       Size\n",
            "       7/85       2.6G      1.341      1.076        1.1         51        640: 100%|██████████| 411/411 [02:22<00:00,  2.89it/s]\n",
            "                 Class     Images  Instances      Box(P          R      mAP50  mAP50-95): 100%|██████████| 52/52 [00:15<00:00,  3.25it/s]\n",
            "                   all       1644       5298       0.62      0.692      0.666      0.418\n",
            "\n",
            "      Epoch    GPU_mem   box_loss   cls_loss   dfl_loss  Instances       Size\n",
            "       8/85      2.61G      1.325      1.033      1.093         48        640: 100%|██████████| 411/411 [02:19<00:00,  2.94it/s]\n",
            "                 Class     Images  Instances      Box(P          R      mAP50  mAP50-95): 100%|██████████| 52/52 [00:16<00:00,  3.06it/s]\n",
            "                   all       1644       5298      0.629      0.724      0.698      0.451\n",
            "\n",
            "      Epoch    GPU_mem   box_loss   cls_loss   dfl_loss  Instances       Size\n",
            "       9/85      2.58G      1.312      1.024      1.091         59        640: 100%|██████████| 411/411 [02:21<00:00,  2.90it/s]\n",
            "                 Class     Images  Instances      Box(P          R      mAP50  mAP50-95): 100%|██████████| 52/52 [00:15<00:00,  3.27it/s]\n",
            "                   all       1644       5298      0.752      0.649      0.697      0.446\n",
            "\n",
            "      Epoch    GPU_mem   box_loss   cls_loss   dfl_loss  Instances       Size\n",
            "      10/85      2.58G        1.3      1.001      1.086         92        640: 100%|██████████| 411/411 [02:20<00:00,  2.92it/s]\n",
            "                 Class     Images  Instances      Box(P          R      mAP50  mAP50-95): 100%|██████████| 52/52 [00:17<00:00,  3.06it/s]\n",
            "                   all       1644       5298      0.665      0.687      0.697      0.434\n",
            "\n",
            "      Epoch    GPU_mem   box_loss   cls_loss   dfl_loss  Instances       Size\n",
            "      11/85       2.6G      1.293     0.9806      1.085         71        640: 100%|██████████| 411/411 [02:20<00:00,  2.92it/s]\n",
            "                 Class     Images  Instances      Box(P          R      mAP50  mAP50-95): 100%|██████████| 52/52 [00:15<00:00,  3.30it/s]\n",
            "                   all       1644       5298      0.657      0.731      0.722      0.468\n",
            "\n",
            "      Epoch    GPU_mem   box_loss   cls_loss   dfl_loss  Instances       Size\n",
            "      12/85      2.45G      1.282     0.9639       1.08         68        640: 100%|██████████| 411/411 [02:18<00:00,  2.96it/s]\n",
            "                 Class     Images  Instances      Box(P          R      mAP50  mAP50-95): 100%|██████████| 52/52 [00:16<00:00,  3.23it/s]\n",
            "                   all       1644       5298      0.662      0.737      0.732      0.477\n",
            "\n",
            "      Epoch    GPU_mem   box_loss   cls_loss   dfl_loss  Instances       Size\n",
            "      13/85       2.6G      1.276     0.9535      1.078         58        640: 100%|██████████| 411/411 [02:23<00:00,  2.86it/s]\n",
            "                 Class     Images  Instances      Box(P          R      mAP50  mAP50-95): 100%|██████████| 52/52 [00:16<00:00,  3.17it/s]\n",
            "                   all       1644       5298      0.672      0.725      0.734      0.486\n",
            "\n",
            "      Epoch    GPU_mem   box_loss   cls_loss   dfl_loss  Instances       Size\n",
            "      14/85       2.6G      1.258     0.9354      1.069         88        640: 100%|██████████| 411/411 [02:21<00:00,  2.90it/s]\n",
            "                 Class     Images  Instances      Box(P          R      mAP50  mAP50-95): 100%|██████████| 52/52 [00:16<00:00,  3.15it/s]\n",
            "                   all       1644       5298      0.701      0.701      0.721      0.471\n",
            "\n",
            "      Epoch    GPU_mem   box_loss   cls_loss   dfl_loss  Instances       Size\n",
            "      15/85      2.58G      1.255     0.9242      1.069         46        640: 100%|██████████| 411/411 [02:23<00:00,  2.87it/s]\n",
            "                 Class     Images  Instances      Box(P          R      mAP50  mAP50-95): 100%|██████████| 52/52 [00:16<00:00,  3.22it/s]\n",
            "                   all       1644       5298      0.652      0.719      0.725      0.475\n",
            "\n",
            "      Epoch    GPU_mem   box_loss   cls_loss   dfl_loss  Instances       Size\n",
            "      16/85      2.58G      1.248     0.9104      1.069         49        640: 100%|██████████| 411/411 [02:20<00:00,  2.92it/s]\n",
            "                 Class     Images  Instances      Box(P          R      mAP50  mAP50-95): 100%|██████████| 52/52 [00:17<00:00,  3.05it/s]\n",
            "                   all       1644       5298      0.653      0.759      0.744      0.496\n",
            "\n",
            "      Epoch    GPU_mem   box_loss   cls_loss   dfl_loss  Instances       Size\n",
            "      17/85       2.6G      1.256     0.9146      1.073         63        640: 100%|██████████| 411/411 [02:21<00:00,  2.90it/s]\n",
            "                 Class     Images  Instances      Box(P          R      mAP50  mAP50-95): 100%|██████████| 52/52 [00:15<00:00,  3.33it/s]\n",
            "                   all       1644       5298      0.644      0.752      0.747      0.495\n",
            "\n",
            "      Epoch    GPU_mem   box_loss   cls_loss   dfl_loss  Instances       Size\n",
            "      18/85       2.6G      1.233     0.8954      1.061         62        640: 100%|██████████| 411/411 [02:21<00:00,  2.90it/s]\n",
            "                 Class     Images  Instances      Box(P          R      mAP50  mAP50-95): 100%|██████████| 52/52 [00:15<00:00,  3.27it/s]\n",
            "                   all       1644       5298      0.681      0.737      0.747      0.499\n",
            "\n",
            "      Epoch    GPU_mem   box_loss   cls_loss   dfl_loss  Instances       Size\n",
            "      19/85      2.59G      1.238     0.8924      1.068         46        640: 100%|██████████| 411/411 [02:22<00:00,  2.88it/s]\n",
            "                 Class     Images  Instances      Box(P          R      mAP50  mAP50-95): 100%|██████████| 52/52 [00:15<00:00,  3.31it/s]\n",
            "                   all       1644       5298      0.714      0.717      0.754      0.498\n",
            "\n",
            "      Epoch    GPU_mem   box_loss   cls_loss   dfl_loss  Instances       Size\n",
            "      20/85      2.58G      1.224     0.8872       1.06         91        640: 100%|██████████| 411/411 [02:21<00:00,  2.91it/s]\n",
            "                 Class     Images  Instances      Box(P          R      mAP50  mAP50-95): 100%|██████████| 52/52 [00:16<00:00,  3.14it/s]\n",
            "                   all       1644       5298      0.713       0.75      0.777      0.523\n",
            "\n",
            "      Epoch    GPU_mem   box_loss   cls_loss   dfl_loss  Instances       Size\n",
            "      21/85       2.6G      1.222     0.8905      1.064         74        640: 100%|██████████| 411/411 [02:24<00:00,  2.85it/s]\n",
            "                 Class     Images  Instances      Box(P          R      mAP50  mAP50-95): 100%|██████████| 52/52 [00:15<00:00,  3.26it/s]\n",
            "                   all       1644       5298      0.727      0.731      0.773       0.52\n",
            "\n",
            "      Epoch    GPU_mem   box_loss   cls_loss   dfl_loss  Instances       Size\n",
            "      22/85      2.59G      1.221     0.8725       1.06         52        640: 100%|██████████| 411/411 [02:22<00:00,  2.88it/s]\n",
            "                 Class     Images  Instances      Box(P          R      mAP50  mAP50-95): 100%|██████████| 52/52 [00:16<00:00,  3.12it/s]\n",
            "                   all       1644       5298      0.728      0.711      0.765      0.515\n",
            "\n",
            "      Epoch    GPU_mem   box_loss   cls_loss   dfl_loss  Instances       Size\n",
            "      23/85      2.58G      1.212     0.8621      1.055         53        640: 100%|██████████| 411/411 [02:20<00:00,  2.93it/s]\n",
            "                 Class     Images  Instances      Box(P          R      mAP50  mAP50-95): 100%|██████████| 52/52 [00:16<00:00,  3.15it/s]\n",
            "                   all       1644       5298      0.692      0.758      0.774      0.523\n",
            "\n",
            "      Epoch    GPU_mem   box_loss   cls_loss   dfl_loss  Instances       Size\n",
            "      24/85       2.6G      1.206      0.856      1.059         69        640: 100%|██████████| 411/411 [02:23<00:00,  2.86it/s]\n",
            "                 Class     Images  Instances      Box(P          R      mAP50  mAP50-95): 100%|██████████| 52/52 [00:16<00:00,  3.10it/s]\n",
            "                   all       1644       5298      0.686      0.756       0.77      0.516\n",
            "\n",
            "      Epoch    GPU_mem   box_loss   cls_loss   dfl_loss  Instances       Size\n",
            "      25/85       2.6G        1.2     0.8553      1.055         55        640: 100%|██████████| 411/411 [02:21<00:00,  2.90it/s]\n",
            "                 Class     Images  Instances      Box(P          R      mAP50  mAP50-95): 100%|██████████| 52/52 [00:16<00:00,  3.24it/s]\n",
            "                   all       1644       5298      0.729      0.738      0.776      0.525\n",
            "\n",
            "      Epoch    GPU_mem   box_loss   cls_loss   dfl_loss  Instances       Size\n",
            "      26/85       2.6G      1.208     0.8534      1.058         76        640: 100%|██████████| 411/411 [02:23<00:00,  2.87it/s]\n",
            "                 Class     Images  Instances      Box(P          R      mAP50  mAP50-95): 100%|██████████| 52/52 [00:15<00:00,  3.25it/s]\n",
            "                   all       1644       5298      0.708      0.759      0.773      0.525\n",
            "\n",
            "      Epoch    GPU_mem   box_loss   cls_loss   dfl_loss  Instances       Size\n",
            "      27/85      2.58G        1.2      0.841      1.056         59        640: 100%|██████████| 411/411 [02:18<00:00,  2.96it/s]\n",
            "                 Class     Images  Instances      Box(P          R      mAP50  mAP50-95): 100%|██████████| 52/52 [00:15<00:00,  3.26it/s]\n",
            "                   all       1644       5298      0.741      0.739      0.783      0.532\n",
            "\n",
            "      Epoch    GPU_mem   box_loss   cls_loss   dfl_loss  Instances       Size\n",
            "      28/85      2.58G      1.189     0.8293      1.049         52        640: 100%|██████████| 411/411 [02:20<00:00,  2.92it/s]\n",
            "                 Class     Images  Instances      Box(P          R      mAP50  mAP50-95): 100%|██████████| 52/52 [00:16<00:00,  3.11it/s]\n",
            "                   all       1644       5298      0.769      0.733      0.796      0.545\n",
            "\n",
            "      Epoch    GPU_mem   box_loss   cls_loss   dfl_loss  Instances       Size\n",
            "      29/85       2.6G      1.192     0.8213      1.049         70        640: 100%|██████████| 411/411 [02:20<00:00,  2.92it/s]\n",
            "                 Class     Images  Instances      Box(P          R      mAP50  mAP50-95): 100%|██████████| 52/52 [00:15<00:00,  3.25it/s]\n",
            "                   all       1644       5298      0.773      0.702      0.786      0.538\n",
            "\n",
            "      Epoch    GPU_mem   box_loss   cls_loss   dfl_loss  Instances       Size\n",
            "      30/85      2.58G      1.183     0.8216      1.046         48        640: 100%|██████████| 411/411 [02:19<00:00,  2.94it/s]\n",
            "                 Class     Images  Instances      Box(P          R      mAP50  mAP50-95): 100%|██████████| 52/52 [00:15<00:00,  3.28it/s]\n",
            "                   all       1644       5298      0.747      0.743      0.793      0.544\n",
            "\n",
            "      Epoch    GPU_mem   box_loss   cls_loss   dfl_loss  Instances       Size\n",
            "      31/85      2.58G      1.176     0.8138      1.044         56        640: 100%|██████████| 411/411 [02:21<00:00,  2.90it/s]\n",
            "                 Class     Images  Instances      Box(P          R      mAP50  mAP50-95): 100%|██████████| 52/52 [00:16<00:00,  3.25it/s]\n",
            "                   all       1644       5298      0.732      0.755      0.802      0.551\n",
            "\n",
            "      Epoch    GPU_mem   box_loss   cls_loss   dfl_loss  Instances       Size\n",
            "      32/85      2.61G      1.175     0.8081      1.044         54        640: 100%|██████████| 411/411 [02:21<00:00,  2.90it/s]\n",
            "                 Class     Images  Instances      Box(P          R      mAP50  mAP50-95): 100%|██████████| 52/52 [00:16<00:00,  3.25it/s]\n",
            "                   all       1644       5298      0.727       0.79      0.808      0.559\n",
            "\n",
            "      Epoch    GPU_mem   box_loss   cls_loss   dfl_loss  Instances       Size\n",
            "      33/85      2.58G      1.165     0.7977      1.039         50        640: 100%|██████████| 411/411 [02:21<00:00,  2.90it/s]\n",
            "                 Class     Images  Instances      Box(P          R      mAP50  mAP50-95): 100%|██████████| 52/52 [00:16<00:00,  3.23it/s]\n",
            "                   all       1644       5298      0.731      0.784      0.808      0.559\n",
            "\n",
            "      Epoch    GPU_mem   box_loss   cls_loss   dfl_loss  Instances       Size\n",
            "      34/85      2.59G      1.159        0.8      1.039         74        640: 100%|██████████| 411/411 [02:19<00:00,  2.94it/s]\n",
            "                 Class     Images  Instances      Box(P          R      mAP50  mAP50-95): 100%|██████████| 52/52 [00:15<00:00,  3.26it/s]\n",
            "                   all       1644       5298       0.73      0.758      0.797      0.548\n",
            "\n",
            "      Epoch    GPU_mem   box_loss   cls_loss   dfl_loss  Instances       Size\n",
            "      35/85       2.6G      1.161      0.794      1.036         74        640: 100%|██████████| 411/411 [02:21<00:00,  2.91it/s]\n",
            "                 Class     Images  Instances      Box(P          R      mAP50  mAP50-95): 100%|██████████| 52/52 [00:16<00:00,  3.06it/s]\n",
            "                   all       1644       5298      0.744      0.772       0.81      0.566\n",
            "\n",
            "      Epoch    GPU_mem   box_loss   cls_loss   dfl_loss  Instances       Size\n",
            "      36/85      2.59G      1.159      0.778      1.036         89        640: 100%|██████████| 411/411 [02:21<00:00,  2.91it/s]\n",
            "                 Class     Images  Instances      Box(P          R      mAP50  mAP50-95): 100%|██████████| 52/52 [00:16<00:00,  3.23it/s]\n",
            "                   all       1644       5298      0.756      0.764      0.819      0.568\n",
            "\n",
            "      Epoch    GPU_mem   box_loss   cls_loss   dfl_loss  Instances       Size\n",
            "      37/85      2.58G      1.148     0.7738      1.036         69        640: 100%|██████████| 411/411 [02:21<00:00,  2.91it/s]\n",
            "                 Class     Images  Instances      Box(P          R      mAP50  mAP50-95): 100%|██████████| 52/52 [00:16<00:00,  3.12it/s]\n",
            "                   all       1644       5298      0.757      0.778      0.818      0.571\n",
            "\n",
            "      Epoch    GPU_mem   box_loss   cls_loss   dfl_loss  Instances       Size\n",
            "      38/85      2.58G       1.15     0.7724      1.031         68        640: 100%|██████████| 411/411 [02:19<00:00,  2.94it/s]\n",
            "                 Class     Images  Instances      Box(P          R      mAP50  mAP50-95): 100%|██████████| 52/52 [00:15<00:00,  3.26it/s]\n",
            "                   all       1644       5298      0.756       0.76      0.816      0.571\n",
            "\n",
            "      Epoch    GPU_mem   box_loss   cls_loss   dfl_loss  Instances       Size\n",
            "      39/85      2.58G      1.152     0.7734      1.034         69        640: 100%|██████████| 411/411 [02:20<00:00,  2.93it/s]\n",
            "                 Class     Images  Instances      Box(P          R      mAP50  mAP50-95): 100%|██████████| 52/52 [00:15<00:00,  3.34it/s]\n",
            "                   all       1644       5298      0.743      0.774      0.821      0.573\n",
            "\n",
            "      Epoch    GPU_mem   box_loss   cls_loss   dfl_loss  Instances       Size\n",
            "      40/85      2.57G      1.138      0.764      1.031         54        640: 100%|██████████| 411/411 [02:23<00:00,  2.87it/s]\n",
            "                 Class     Images  Instances      Box(P          R      mAP50  mAP50-95): 100%|██████████| 52/52 [00:16<00:00,  3.20it/s]\n",
            "                   all       1644       5298      0.781      0.755      0.827      0.579\n",
            "\n",
            "      Epoch    GPU_mem   box_loss   cls_loss   dfl_loss  Instances       Size\n",
            "      41/85      2.58G      1.135     0.7562      1.031         68        640: 100%|██████████| 411/411 [02:21<00:00,  2.90it/s]\n",
            "                 Class     Images  Instances      Box(P          R      mAP50  mAP50-95): 100%|██████████| 52/52 [00:15<00:00,  3.32it/s]\n",
            "                   all       1644       5298       0.75      0.792       0.83      0.585\n",
            "\n",
            "      Epoch    GPU_mem   box_loss   cls_loss   dfl_loss  Instances       Size\n",
            "      42/85      2.45G      1.138     0.7527      1.027         70        640: 100%|██████████| 411/411 [02:24<00:00,  2.84it/s]\n",
            "                 Class     Images  Instances      Box(P          R      mAP50  mAP50-95): 100%|██████████| 52/52 [00:16<00:00,  3.23it/s]\n",
            "                   all       1644       5298      0.773      0.777      0.832      0.584\n",
            "\n",
            "      Epoch    GPU_mem   box_loss   cls_loss   dfl_loss  Instances       Size\n",
            "      43/85      2.61G      1.131     0.7439      1.025         76        640: 100%|██████████| 411/411 [02:22<00:00,  2.89it/s]\n",
            "                 Class     Images  Instances      Box(P          R      mAP50  mAP50-95): 100%|██████████| 52/52 [00:17<00:00,  3.04it/s]\n",
            "                   all       1644       5298      0.784      0.757      0.823      0.577\n",
            "\n",
            "      Epoch    GPU_mem   box_loss   cls_loss   dfl_loss  Instances       Size\n",
            "      44/85      2.59G      1.141     0.7468      1.031         50        640: 100%|██████████| 411/411 [02:23<00:00,  2.87it/s]\n",
            "                 Class     Images  Instances      Box(P          R      mAP50  mAP50-95): 100%|██████████| 52/52 [00:16<00:00,  3.12it/s]\n",
            "                   all       1644       5298      0.756      0.772      0.821      0.576\n",
            "\n",
            "      Epoch    GPU_mem   box_loss   cls_loss   dfl_loss  Instances       Size\n",
            "      45/85      2.58G      1.123     0.7313      1.023         63        640: 100%|██████████| 411/411 [02:24<00:00,  2.84it/s]\n",
            "                 Class     Images  Instances      Box(P          R      mAP50  mAP50-95): 100%|██████████| 52/52 [00:16<00:00,  3.22it/s]\n",
            "                   all       1644       5298       0.78      0.764      0.827      0.585\n",
            "\n",
            "      Epoch    GPU_mem   box_loss   cls_loss   dfl_loss  Instances       Size\n",
            "      46/85      2.59G      1.123      0.741      1.026         67        640: 100%|██████████| 411/411 [02:21<00:00,  2.90it/s]\n",
            "                 Class     Images  Instances      Box(P          R      mAP50  mAP50-95): 100%|██████████| 52/52 [00:16<00:00,  3.24it/s]\n",
            "                   all       1644       5298      0.746      0.799      0.831      0.587\n",
            "\n",
            "      Epoch    GPU_mem   box_loss   cls_loss   dfl_loss  Instances       Size\n",
            "      47/85       2.6G      1.132     0.7342      1.029         41        640: 100%|██████████| 411/411 [02:25<00:00,  2.83it/s]\n",
            "                 Class     Images  Instances      Box(P          R      mAP50  mAP50-95): 100%|██████████| 52/52 [00:16<00:00,  3.22it/s]\n",
            "                   all       1644       5298      0.785      0.764      0.828      0.583\n",
            "\n",
            "      Epoch    GPU_mem   box_loss   cls_loss   dfl_loss  Instances       Size\n",
            "      48/85      2.45G       1.11     0.7253      1.021         42        640: 100%|██████████| 411/411 [02:22<00:00,  2.89it/s]\n",
            "                 Class     Images  Instances      Box(P          R      mAP50  mAP50-95): 100%|██████████| 52/52 [00:15<00:00,  3.30it/s]\n",
            "                   all       1644       5298      0.787       0.77      0.839      0.592\n",
            "\n",
            "      Epoch    GPU_mem   box_loss   cls_loss   dfl_loss  Instances       Size\n",
            "      49/85       2.6G      1.116     0.7202      1.024         65        640: 100%|██████████| 411/411 [02:24<00:00,  2.85it/s]\n",
            "                 Class     Images  Instances      Box(P          R      mAP50  mAP50-95): 100%|██████████| 52/52 [00:15<00:00,  3.26it/s]\n",
            "                   all       1644       5298      0.773      0.788      0.842      0.597\n",
            "\n",
            "      Epoch    GPU_mem   box_loss   cls_loss   dfl_loss  Instances       Size\n",
            "      50/85       2.6G       1.11     0.7152      1.022         52        640: 100%|██████████| 411/411 [02:20<00:00,  2.92it/s]\n",
            "                 Class     Images  Instances      Box(P          R      mAP50  mAP50-95): 100%|██████████| 52/52 [00:15<00:00,  3.28it/s]\n",
            "                   all       1644       5298      0.792      0.766      0.837      0.594\n",
            "\n",
            "      Epoch    GPU_mem   box_loss   cls_loss   dfl_loss  Instances       Size\n",
            "      51/85       2.6G      1.099     0.7066      1.014         54        640: 100%|██████████| 411/411 [02:24<00:00,  2.85it/s]\n",
            "                 Class     Images  Instances      Box(P          R      mAP50  mAP50-95): 100%|██████████| 52/52 [00:15<00:00,  3.31it/s]\n",
            "                   all       1644       5298      0.791      0.772      0.838      0.598\n",
            "\n",
            "      Epoch    GPU_mem   box_loss   cls_loss   dfl_loss  Instances       Size\n",
            "      52/85       2.6G      1.097      0.708      1.014         79        640: 100%|██████████| 411/411 [02:21<00:00,  2.90it/s]\n",
            "                 Class     Images  Instances      Box(P          R      mAP50  mAP50-95): 100%|██████████| 52/52 [00:16<00:00,  3.21it/s]\n",
            "                   all       1644       5298      0.764      0.791      0.835      0.596\n",
            "\n",
            "      Epoch    GPU_mem   box_loss   cls_loss   dfl_loss  Instances       Size\n",
            "      53/85      2.58G      1.104     0.7064      1.016         91        640: 100%|██████████| 411/411 [02:23<00:00,  2.87it/s]\n",
            "                 Class     Images  Instances      Box(P          R      mAP50  mAP50-95): 100%|██████████| 52/52 [00:16<00:00,  3.20it/s]\n",
            "                   all       1644       5298      0.787      0.786      0.843      0.603\n",
            "\n",
            "      Epoch    GPU_mem   box_loss   cls_loss   dfl_loss  Instances       Size\n",
            "      54/85       2.6G      1.086     0.6962      1.011         60        640: 100%|██████████| 411/411 [02:20<00:00,  2.92it/s]\n",
            "                 Class     Images  Instances      Box(P          R      mAP50  mAP50-95): 100%|██████████| 52/52 [00:16<00:00,  3.25it/s]\n",
            "                   all       1644       5298      0.797      0.784      0.846      0.607\n",
            "\n",
            "      Epoch    GPU_mem   box_loss   cls_loss   dfl_loss  Instances       Size\n",
            "      55/85      2.61G      1.087     0.6928      1.012         64        640: 100%|██████████| 411/411 [02:24<00:00,  2.85it/s]\n",
            "                 Class     Images  Instances      Box(P          R      mAP50  mAP50-95): 100%|██████████| 52/52 [00:16<00:00,  3.20it/s]\n",
            "                   all       1644       5298      0.806      0.771      0.845      0.602\n",
            "\n",
            "      Epoch    GPU_mem   box_loss   cls_loss   dfl_loss  Instances       Size\n",
            "      56/85       2.6G      1.089     0.6895      1.011         55        640: 100%|██████████| 411/411 [02:21<00:00,  2.90it/s]\n",
            "                 Class     Images  Instances      Box(P          R      mAP50  mAP50-95): 100%|██████████| 52/52 [00:16<00:00,  3.21it/s]\n",
            "                   all       1644       5298      0.806      0.781      0.842      0.601\n",
            "\n",
            "      Epoch    GPU_mem   box_loss   cls_loss   dfl_loss  Instances       Size\n",
            "      57/85      2.59G      1.078     0.6755      1.007         43        640: 100%|██████████| 411/411 [02:22<00:00,  2.88it/s]\n",
            "                 Class     Images  Instances      Box(P          R      mAP50  mAP50-95): 100%|██████████| 52/52 [00:16<00:00,  3.07it/s]\n",
            "                   all       1644       5298      0.786      0.774      0.847      0.605\n",
            "\n",
            "      Epoch    GPU_mem   box_loss   cls_loss   dfl_loss  Instances       Size\n",
            "      58/85      2.58G      1.076     0.6747      1.009         52        640: 100%|██████████| 411/411 [02:22<00:00,  2.88it/s]\n",
            "                 Class     Images  Instances      Box(P          R      mAP50  mAP50-95): 100%|██████████| 52/52 [00:16<00:00,  3.24it/s]\n",
            "                   all       1644       5298      0.809       0.79      0.849      0.608\n",
            "\n",
            "      Epoch    GPU_mem   box_loss   cls_loss   dfl_loss  Instances       Size\n",
            "      59/85       2.6G      1.071     0.6731      1.008         75        640: 100%|██████████| 411/411 [02:25<00:00,  2.83it/s]\n",
            "                 Class     Images  Instances      Box(P          R      mAP50  mAP50-95): 100%|██████████| 52/52 [00:16<00:00,  3.15it/s]\n",
            "                   all       1644       5298      0.799      0.777       0.85      0.609\n",
            "\n",
            "      Epoch    GPU_mem   box_loss   cls_loss   dfl_loss  Instances       Size\n",
            "      60/85       2.6G      1.069     0.6671      1.007         56        640: 100%|██████████| 411/411 [02:25<00:00,  2.83it/s]\n",
            "                 Class     Images  Instances      Box(P          R      mAP50  mAP50-95): 100%|██████████| 52/52 [00:17<00:00,  3.05it/s]\n",
            "                   all       1644       5298      0.793      0.792      0.847      0.606\n",
            "\n",
            "      Epoch    GPU_mem   box_loss   cls_loss   dfl_loss  Instances       Size\n",
            "      61/85      2.61G      1.072      0.674       1.01         81        640: 100%|██████████| 411/411 [02:26<00:00,  2.80it/s]\n",
            "                 Class     Images  Instances      Box(P          R      mAP50  mAP50-95): 100%|██████████| 52/52 [00:16<00:00,  3.17it/s]\n",
            "                   all       1644       5298      0.801      0.786      0.845      0.603\n",
            "\n",
            "      Epoch    GPU_mem   box_loss   cls_loss   dfl_loss  Instances       Size\n",
            "      62/85      2.49G      1.059     0.6576      1.002         67        640: 100%|██████████| 411/411 [02:27<00:00,  2.79it/s]\n",
            "                 Class     Images  Instances      Box(P          R      mAP50  mAP50-95): 100%|██████████| 52/52 [00:16<00:00,  3.21it/s]\n",
            "                   all       1644       5298      0.822       0.77      0.847       0.61\n",
            "\n",
            "      Epoch    GPU_mem   box_loss   cls_loss   dfl_loss  Instances       Size\n",
            "      63/85       2.6G      1.047     0.6493     0.9997         43        640: 100%|██████████| 411/411 [02:26<00:00,  2.80it/s]\n",
            "                 Class     Images  Instances      Box(P          R      mAP50  mAP50-95): 100%|██████████| 52/52 [00:16<00:00,  3.22it/s]\n",
            "                   all       1644       5298      0.807      0.781      0.849      0.612\n",
            "\n",
            "      Epoch    GPU_mem   box_loss   cls_loss   dfl_loss  Instances       Size\n",
            "      64/85      2.58G      1.051     0.6456      1.001         66        640: 100%|██████████| 411/411 [02:26<00:00,  2.81it/s]\n",
            "                 Class     Images  Instances      Box(P          R      mAP50  mAP50-95): 100%|██████████| 52/52 [00:17<00:00,  3.01it/s]\n",
            "                   all       1644       5298      0.806      0.785      0.848      0.613\n",
            "\n",
            "      Epoch    GPU_mem   box_loss   cls_loss   dfl_loss  Instances       Size\n",
            "      65/85      2.61G      1.048     0.6476          1         68        640: 100%|██████████| 411/411 [02:25<00:00,  2.82it/s]\n",
            "                 Class     Images  Instances      Box(P          R      mAP50  mAP50-95): 100%|██████████| 52/52 [00:15<00:00,  3.26it/s]\n",
            "                   all       1644       5298      0.817      0.771      0.847      0.612\n",
            "\n",
            "      Epoch    GPU_mem   box_loss   cls_loss   dfl_loss  Instances       Size\n",
            "      66/85       2.6G      1.046     0.6502     0.9991         56        640: 100%|██████████| 411/411 [02:24<00:00,  2.84it/s]\n",
            "                 Class     Images  Instances      Box(P          R      mAP50  mAP50-95): 100%|██████████| 52/52 [00:17<00:00,  2.97it/s]\n",
            "                   all       1644       5298      0.808      0.783      0.847       0.61\n",
            "\n",
            "      Epoch    GPU_mem   box_loss   cls_loss   dfl_loss  Instances       Size\n",
            "      67/85      2.58G      1.044     0.6441     0.9967         57        640: 100%|██████████| 411/411 [02:26<00:00,  2.81it/s]\n",
            "                 Class     Images  Instances      Box(P          R      mAP50  mAP50-95): 100%|██████████| 52/52 [00:16<00:00,  3.15it/s]\n",
            "                   all       1644       5298      0.804      0.788      0.849      0.616\n",
            "\n",
            "      Epoch    GPU_mem   box_loss   cls_loss   dfl_loss  Instances       Size\n",
            "      68/85       2.6G      1.041     0.6397     0.9977         51        640: 100%|██████████| 411/411 [02:29<00:00,  2.76it/s]\n",
            "                 Class     Images  Instances      Box(P          R      mAP50  mAP50-95): 100%|██████████| 52/52 [00:16<00:00,  3.23it/s]\n",
            "                   all       1644       5298      0.788      0.801      0.849      0.617\n",
            "\n",
            "      Epoch    GPU_mem   box_loss   cls_loss   dfl_loss  Instances       Size\n",
            "      69/85       2.6G      1.032     0.6362     0.9914         69        640: 100%|██████████| 411/411 [02:28<00:00,  2.76it/s]\n",
            "                 Class     Images  Instances      Box(P          R      mAP50  mAP50-95): 100%|██████████| 52/52 [00:16<00:00,  3.19it/s]\n",
            "                   all       1644       5298      0.808      0.791      0.851       0.62\n",
            "\n",
            "      Epoch    GPU_mem   box_loss   cls_loss   dfl_loss  Instances       Size\n",
            "      70/85      2.58G      1.029     0.6303     0.9917         45        640: 100%|██████████| 411/411 [02:23<00:00,  2.87it/s]\n",
            "                 Class     Images  Instances      Box(P          R      mAP50  mAP50-95): 100%|██████████| 52/52 [00:19<00:00,  2.68it/s]\n",
            "                   all       1644       5298      0.786      0.804      0.852      0.616\n",
            "\n",
            "      Epoch    GPU_mem   box_loss   cls_loss   dfl_loss  Instances       Size\n",
            "      71/85       2.6G       1.03     0.6247     0.9909         73        640: 100%|██████████| 411/411 [02:23<00:00,  2.86it/s]\n",
            "                 Class     Images  Instances      Box(P          R      mAP50  mAP50-95): 100%|██████████| 52/52 [00:16<00:00,  3.18it/s]\n",
            "                   all       1644       5298      0.808      0.793      0.852      0.619\n",
            "\n",
            "      Epoch    GPU_mem   box_loss   cls_loss   dfl_loss  Instances       Size\n",
            "      72/85       2.6G      1.024     0.6221     0.9892         55        640: 100%|██████████| 411/411 [02:29<00:00,  2.76it/s]\n",
            "                 Class     Images  Instances      Box(P          R      mAP50  mAP50-95): 100%|██████████| 52/52 [00:16<00:00,  3.24it/s]\n",
            "                   all       1644       5298      0.819      0.781      0.851       0.62\n",
            "\n",
            "      Epoch    GPU_mem   box_loss   cls_loss   dfl_loss  Instances       Size\n",
            "      73/85      2.59G      1.022     0.6239      0.991         39        640: 100%|██████████| 411/411 [02:25<00:00,  2.82it/s]\n",
            "                 Class     Images  Instances      Box(P          R      mAP50  mAP50-95): 100%|██████████| 52/52 [00:17<00:00,  3.03it/s]\n",
            "                   all       1644       5298      0.813       0.79      0.852       0.62\n",
            "\n",
            "      Epoch    GPU_mem   box_loss   cls_loss   dfl_loss  Instances       Size\n",
            "      74/85       2.6G       1.02      0.621     0.9911         84        640: 100%|██████████| 411/411 [02:25<00:00,  2.82it/s]\n",
            "                 Class     Images  Instances      Box(P          R      mAP50  mAP50-95): 100%|██████████| 52/52 [00:16<00:00,  3.15it/s]\n",
            "                   all       1644       5298      0.803      0.806      0.855      0.621\n",
            "\n",
            "      Epoch    GPU_mem   box_loss   cls_loss   dfl_loss  Instances       Size\n",
            "      75/85      2.45G      1.017     0.6141      0.987         51        640: 100%|██████████| 411/411 [02:26<00:00,  2.80it/s]\n",
            "                 Class     Images  Instances      Box(P          R      mAP50  mAP50-95): 100%|██████████| 52/52 [00:16<00:00,  3.20it/s]\n",
            "                   all       1644       5298      0.807      0.787      0.855      0.627\n",
            "Closing dataloader mosaic\n",
            "\u001b[34m\u001b[1malbumentations: \u001b[0mBlur(p=0.01, blur_limit=(3, 7)), MedianBlur(p=0.01, blur_limit=(3, 7)), ToGray(p=0.01), CLAHE(p=0.01, clip_limit=(1, 4.0), tile_grid_size=(8, 8))\n",
            "\n",
            "      Epoch    GPU_mem   box_loss   cls_loss   dfl_loss  Instances       Size\n",
            "      76/85      2.71G     0.9977     0.5403     0.9896         23        640: 100%|██████████| 411/411 [02:18<00:00,  2.97it/s]\n",
            "                 Class     Images  Instances      Box(P          R      mAP50  mAP50-95): 100%|██████████| 52/52 [00:16<00:00,  3.25it/s]\n",
            "                   all       1644       5298       0.81      0.793      0.852      0.622\n",
            "\n",
            "      Epoch    GPU_mem   box_loss   cls_loss   dfl_loss  Instances       Size\n",
            "      77/85      2.58G     0.9865     0.5371     0.9836         37        640: 100%|██████████| 411/411 [02:18<00:00,  2.97it/s]\n",
            "                 Class     Images  Instances      Box(P          R      mAP50  mAP50-95): 100%|██████████| 52/52 [00:15<00:00,  3.25it/s]\n",
            "                   all       1644       5298      0.817      0.784      0.855      0.622\n",
            "\n",
            "      Epoch    GPU_mem   box_loss   cls_loss   dfl_loss  Instances       Size\n",
            "      78/85      2.58G     0.9775      0.527     0.9822         42        640: 100%|██████████| 411/411 [02:14<00:00,  3.05it/s]\n",
            "                 Class     Images  Instances      Box(P          R      mAP50  mAP50-95): 100%|██████████| 52/52 [00:18<00:00,  2.83it/s]\n",
            "                   all       1644       5298      0.802      0.798      0.855      0.625\n",
            "\n",
            "      Epoch    GPU_mem   box_loss   cls_loss   dfl_loss  Instances       Size\n",
            "      79/85      2.58G     0.9698     0.5211     0.9786         44        640: 100%|██████████| 411/411 [02:14<00:00,  3.06it/s]\n",
            "                 Class     Images  Instances      Box(P          R      mAP50  mAP50-95): 100%|██████████| 52/52 [00:16<00:00,  3.25it/s]\n",
            "                   all       1644       5298      0.815      0.787      0.854      0.622\n",
            "\n",
            "      Epoch    GPU_mem   box_loss   cls_loss   dfl_loss  Instances       Size\n",
            "      80/85      2.58G     0.9671     0.5187     0.9795         48        640: 100%|██████████| 411/411 [02:17<00:00,  2.99it/s]\n",
            "                 Class     Images  Instances      Box(P          R      mAP50  mAP50-95): 100%|██████████| 52/52 [00:16<00:00,  3.24it/s]\n",
            "                   all       1644       5298        0.8      0.796      0.853      0.622\n",
            "\n",
            "      Epoch    GPU_mem   box_loss   cls_loss   dfl_loss  Instances       Size\n",
            "      81/85      2.61G     0.9679     0.5153     0.9797         40        640: 100%|██████████| 411/411 [02:17<00:00,  2.98it/s]\n",
            "                 Class     Images  Instances      Box(P          R      mAP50  mAP50-95): 100%|██████████| 52/52 [00:16<00:00,  3.20it/s]\n",
            "                   all       1644       5298      0.799      0.791      0.852      0.621\n",
            "\n",
            "      Epoch    GPU_mem   box_loss   cls_loss   dfl_loss  Instances       Size\n",
            "      82/85      2.58G     0.9559     0.5111     0.9743         46        640: 100%|██████████| 411/411 [02:17<00:00,  2.98it/s]\n",
            "                 Class     Images  Instances      Box(P          R      mAP50  mAP50-95): 100%|██████████| 52/52 [00:15<00:00,  3.28it/s]\n",
            "                   all       1644       5298      0.795      0.795       0.85      0.622\n",
            "\n",
            "      Epoch    GPU_mem   box_loss   cls_loss   dfl_loss  Instances       Size\n",
            "      83/85      2.58G     0.9578     0.5085     0.9723         39        640: 100%|██████████| 411/411 [02:18<00:00,  2.96it/s]\n",
            "                 Class     Images  Instances      Box(P          R      mAP50  mAP50-95): 100%|██████████| 52/52 [00:16<00:00,  3.22it/s]\n",
            "                   all       1644       5298      0.816      0.781      0.849      0.622\n",
            "\n",
            "      Epoch    GPU_mem   box_loss   cls_loss   dfl_loss  Instances       Size\n",
            "      84/85      2.58G     0.9545     0.5091     0.9753         41        640: 100%|██████████| 411/411 [02:15<00:00,  3.03it/s]\n",
            "                 Class     Images  Instances      Box(P          R      mAP50  mAP50-95): 100%|██████████| 52/52 [00:15<00:00,  3.27it/s]\n",
            "                   all       1644       5298      0.803      0.791      0.854      0.623\n",
            "\n",
            "      Epoch    GPU_mem   box_loss   cls_loss   dfl_loss  Instances       Size\n",
            "      85/85      2.58G     0.9468     0.5036     0.9717         41        640: 100%|██████████| 411/411 [02:15<00:00,  3.03it/s]\n",
            "                 Class     Images  Instances      Box(P          R      mAP50  mAP50-95): 100%|██████████| 52/52 [00:17<00:00,  3.04it/s]\n",
            "                   all       1644       5298      0.808      0.792      0.855      0.626\n",
            "\n",
            "85 epochs completed in 3.763 hours.\n",
            "Optimizer stripped from runs/detect/train/weights/last.pt, 6.2MB\n",
            "Optimizer stripped from runs/detect/train/weights/best.pt, 6.2MB\n",
            "\n",
            "Validating runs/detect/train/weights/best.pt...\n",
            "Ultralytics YOLOv8.0.173 🚀 Python-3.10.12 torch-2.0.1+cu118 CUDA:0 (Tesla T4, 15102MiB)\n",
            "Model summary (fused): 168 layers, 3007208 parameters, 0 gradients\n",
            "                 Class     Images  Instances      Box(P          R      mAP50  mAP50-95): 100%|██████████| 52/52 [00:22<00:00,  2.30it/s]\n",
            "                   all       1644       5298      0.809      0.785      0.855      0.627\n",
            "                  auto       1644        164      0.813      0.866      0.913      0.629\n",
            "                   bus       1644        270      0.847      0.802      0.886      0.692\n",
            "                   car       1644       2267      0.919      0.881      0.944      0.673\n",
            "                   lcv       1644        202      0.631      0.594       0.68      0.538\n",
            "            motorcycle       1644       1534      0.849      0.763      0.881      0.502\n",
            "             multiaxle       1644        226      0.737      0.704      0.795       0.65\n",
            "               tractor       1644         37      0.934      0.919      0.943       0.72\n",
            "                 truck       1644        598      0.746      0.753        0.8      0.608\n",
            "Speed: 0.5ms preprocess, 2.2ms inference, 0.0ms loss, 1.4ms postprocess per image\n",
            "Results saved to \u001b[1mruns/detect/train\u001b[0m\n"
          ]
        },
        {
          "output_type": "stream",
          "name": "stdout",
          "text": [
            "ultralytics.utils.metrics.DetMetrics object with attributes:\n",
            "\n",
            "ap_class_index: array([0, 1, 2, 3, 4, 5, 6, 7])\n",
            "box: ultralytics.utils.metrics.Metric object\n",
            "confusion_matrix: <ultralytics.utils.metrics.ConfusionMatrix object at 0x7c0101bf9180>\n",
            "fitness: 0.6494746253229452\n",
            "keys: ['metrics/precision(B)', 'metrics/recall(B)', 'metrics/mAP50(B)', 'metrics/mAP50-95(B)']\n",
            "maps: array([    0.62886,     0.69234,      0.6732,     0.53772,     0.50219,     0.65019,      0.7202,      0.6082])\n",
            "names: {0: 'auto', 1: 'bus', 2: 'car', 3: 'lcv', 4: 'motorcycle', 5: 'multiaxle', 6: 'tractor', 7: 'truck'}\n",
            "plot: True\n",
            "results_dict: {'metrics/precision(B)': 0.8094784509229622, 'metrics/recall(B)': 0.785114097405925, 'metrics/mAP50(B)': 0.8552296049960098, 'metrics/mAP50-95(B)': 0.6266129609148269, 'fitness': 0.6494746253229452}\n",
            "save_dir: PosixPath('runs/detect/train')\n",
            "speed: {'preprocess': 0.490844539772275, 'inference': 2.2359638318528225, 'loss': 0.0007853020716757671, 'postprocess': 1.4461605218205138}\n"
          ]
        }
      ]
    },
    {
      "cell_type": "code",
      "source": [
        "import locale\n",
        "locale.getpreferredencoding = lambda: \"UTF-8\""
      ],
      "metadata": {
        "id": "CdTTE-b8cc1p"
      },
      "execution_count": null,
      "outputs": []
    },
    {
      "cell_type": "code",
      "source": [
        "%cd ..\n",
        "!scp -r /runs '/content/drive/MyDrive'"
      ],
      "metadata": {
        "id": "g54C2jELaHtS",
        "colab": {
          "base_uri": "https://localhost:8080/"
        },
        "outputId": "8fa5591b-395b-446a-9896-0043faab8963"
      },
      "execution_count": null,
      "outputs": [
        {
          "output_type": "stream",
          "name": "stdout",
          "text": [
            "/\n"
          ]
        }
      ]
    },
    {
      "cell_type": "code",
      "source": [
        "metrics = model.val()  # evaluate model performance on the validation set"
      ],
      "metadata": {
        "id": "AZRyRbhObehj",
        "colab": {
          "base_uri": "https://localhost:8080/"
        },
        "outputId": "60967872-cd84-4259-f74c-fee9e5c584c1"
      },
      "execution_count": null,
      "outputs": [
        {
          "output_type": "stream",
          "name": "stderr",
          "text": [
            "Ultralytics YOLOv8.0.173 🚀 Python-3.10.12 torch-2.0.1+cu118 CUDA:0 (Tesla T4, 15102MiB)\n",
            "Model summary (fused): 168 layers, 3007208 parameters, 0 gradients\n",
            "\u001b[34m\u001b[1mval: \u001b[0mScanning /content/Val/labels.cache... 1644 images, 4 backgrounds, 0 corrupt: 100%|██████████| 1644/1644 [00:00<?, ?it/s]\n",
            "                 Class     Images  Instances      Box(P          R      mAP50  mAP50-95): 100%|██████████| 103/103 [00:25<00:00,  4.10it/s]\n",
            "                   all       1644       5298      0.808      0.787      0.855      0.627\n",
            "                  auto       1644        164       0.81      0.866      0.913      0.629\n",
            "                   bus       1644        270      0.848      0.803      0.886      0.693\n",
            "                   car       1644       2267      0.917      0.883      0.944      0.672\n",
            "                   lcv       1644        202      0.632      0.596      0.681      0.539\n",
            "            motorcycle       1644       1534      0.845      0.767      0.882      0.502\n",
            "             multiaxle       1644        226      0.733      0.705      0.795      0.651\n",
            "               tractor       1644         37      0.933      0.919      0.943      0.723\n",
            "                 truck       1644        598      0.744      0.756      0.799      0.608\n",
            "Speed: 0.4ms preprocess, 4.1ms inference, 0.0ms loss, 1.2ms postprocess per image\n",
            "Results saved to \u001b[1mruns/detect/val\u001b[0m\n"
          ]
        }
      ]
    },
    {
      "cell_type": "code",
      "source": [],
      "metadata": {
        "id": "6MQanf-V4RMl"
      },
      "execution_count": null,
      "outputs": []
    }
  ]
}